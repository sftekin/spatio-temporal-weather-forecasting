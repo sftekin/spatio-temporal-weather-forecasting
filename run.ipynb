{
 "cells": [
  {
   "cell_type": "markdown",
   "source": [
    "# Reproducing Paper's Output"
   ],
   "metadata": {
    "collapsed": false
   }
  },
  {
   "cell_type": "markdown",
   "source": [
    "## WeatherBench Results"
   ],
   "metadata": {
    "collapsed": false
   }
  },
  {
   "cell_type": "code",
   "execution_count": 16,
   "outputs": [],
   "source": [
    "from experimenter import get_exp_count\n",
    "from inference import inference_on_test\n",
    "from configs.weatherbench.default_conf import experiment_params\n",
    "\n",
    "\n",
    "inference_params = {\n",
    "    \"start_date_str\": \"01-01-2017\",\n",
    "    \"end_date_str\": \"01-01-2018\",\n",
    "    \"test_data_folder\": \"data/weatherbench/test_data\",\n",
    "    # \"exp_num\": 2,  # or set it by yourself\n",
    "    \"forecast_horizon\": 72,\n",
    "    \"selected_dim\": -1  # index position of the selected feature\n",
    "}\n",
    "model_names = ['weather_model', 'u_net', 'traj_gru', 'convlstm']"
   ],
   "metadata": {
    "collapsed": false
   }
  },
  {
   "cell_type": "markdown",
   "source": [
    "### Sequential"
   ],
   "metadata": {
    "collapsed": false
   }
  },
  {
   "cell_type": "code",
   "execution_count": 12,
   "outputs": [],
   "source": [
    "# Performing sequential\n",
    "from configs.weatherbench.seq_model_confs import model_params\n",
    "\n",
    "exp_type = \"sequential\"\n",
    "exp_dir = f\"results/{exp_type}_results\"\n",
    "inference_params[\"exp_dir\"] = exp_dir"
   ],
   "metadata": {
    "collapsed": false
   }
  },
  {
   "cell_type": "code",
   "execution_count": 13,
   "outputs": [
    {
     "name": "stdout",
     "output_type": "stream",
     "text": [
      "-*--*--*--*--*--*--*--*--*--*--*--*--*--*--*--*--*--*--*--*-\n",
      "Inference on data/weatherbench/test_data between 01-01-2017 and 01-01-2018 dates\n",
      "\ttest:15/16-*--*--*--*--*--*--*--*--*--*-\n",
      "Experiment finished for the 01-01-2017_01-01-2018 the scores are: \n",
      "inference-test:\t\tMSE: 23.41013, MAE: 3.68598, MAPE: 0.01349, RMSE: 4.83840, WeightedMAE: 3.25682, WeightedRMSE: 3.97436, WeightedACC: 0.69092, \n",
      "-*--*--*--*--*--*--*--*--*--*--*--*--*--*--*--*--*--*--*--*-\n",
      "Inference on data/weatherbench/test_data between 01-01-2017 and 01-01-2018 dates\n",
      "\ttest:15/16-*--*--*--*--*--*--*--*--*--*-\n",
      "Experiment finished for the 01-01-2017_01-01-2018 the scores are: \n",
      "inference-test:\t\tMSE: 11.04407, MAE: 2.28841, MAPE: 0.00842, RMSE: 3.32326, WeightedMAE: 2.07575, WeightedRMSE: 3.05444, WeightedACC: 0.82030, \n",
      "-*--*--*--*--*--*--*--*--*--*--*--*--*--*--*--*--*--*--*--*-\n",
      "Inference on data/weatherbench/test_data between 01-01-2017 and 01-01-2018 dates\n",
      "\ttest:15/16-*--*--*--*--*--*--*--*--*--*-\n",
      "Experiment finished for the 01-01-2017_01-01-2018 the scores are: \n",
      "inference-test:\t\tMSE: 15.87208, MAE: 3.05074, MAPE: 0.01118, RMSE: 3.98398, WeightedMAE: 2.79108, WeightedRMSE: 3.60006, WeightedACC: 0.75702, \n",
      "-*--*--*--*--*--*--*--*--*--*--*--*--*--*--*--*--*--*--*--*-\n",
      "Inference on data/weatherbench/test_data between 01-01-2017 and 01-01-2018 dates\n",
      "\ttest:15/16-*--*--*--*--*--*--*--*--*--*-\n",
      "Experiment finished for the 01-01-2017_01-01-2018 the scores are: \n",
      "inference-test:\t\tMSE: 24.76391, MAE: 3.77145, MAPE: 0.01380, RMSE: 4.97633, WeightedMAE: 3.46913, WeightedRMSE: 4.43542, WeightedACC: 0.63598, \n"
     ]
    }
   ],
   "source": [
    "# perform inference on test\n",
    "for mn in model_names:\n",
    "    inference_params[\"model_name\"] = mn\n",
    "    inference_params[\"exp_num\"] = get_exp_count(mn, result_dir=exp_dir)  # get the last experiment\n",
    "    inference_on_test(dataset_type=\"weatherbench\", device=experiment_params[\"device\"], **inference_params)"
   ],
   "metadata": {
    "collapsed": false
   }
  },
  {
   "cell_type": "markdown",
   "source": [
    "### Iterative"
   ],
   "metadata": {
    "collapsed": false
   }
  },
  {
   "cell_type": "code",
   "execution_count": 17,
   "outputs": [],
   "source": [
    "from configs.weatherbench.iter_model_confs import model_params\n",
    "\n",
    "exp_type = \"iterative\"\n",
    "exp_dir = f\"results/{exp_type}_results\"\n",
    "inference_params[\"exp_dir\"] = exp_dir"
   ],
   "metadata": {
    "collapsed": false
   }
  },
  {
   "cell_type": "code",
   "execution_count": 18,
   "outputs": [
    {
     "name": "stdout",
     "output_type": "stream",
     "text": [
      "weather_model\n",
      "-*--*--*--*--*--*--*--*--*--*--*--*--*--*--*--*--*--*--*--*-\n",
      "Inference on data/weatherbench/test_data between 01-01-2017 and 01-01-2018 dates\n",
      "Performing iterative prediction since window_out (6) < forecast_horizon (72)\n",
      "\ttest:3/4-*--*--*--*--*--*--*--*--*--*-\n",
      "Experiment finished for the 01-01-2017_01-01-2018 the scores are: \n",
      "inference-test:\t\tMSE: 11.92691, MAE: 2.36522, MAPE: 0.00877, RMSE: 3.45354, WeightedMAE: 2.08508, WeightedRMSE: 2.91743, WeightedACC: 0.83784, \n",
      "u_net\n",
      "-*--*--*--*--*--*--*--*--*--*--*--*--*--*--*--*--*--*--*--*-\n",
      "Inference on data/weatherbench/test_data between 01-01-2017 and 01-01-2018 dates\n",
      "\ttest:15/16-*--*--*--*--*--*--*--*--*--*-\n",
      "Experiment finished for the 01-01-2017_01-01-2018 the scores are: \n",
      "inference-test:\t\tMSE: 22.18061, MAE: 3.63348, MAPE: 0.01341, RMSE: 4.70963, WeightedMAE: 3.26551, WeightedRMSE: 4.13053, WeightedACC: 0.68033, \n",
      "traj_gru\n",
      "-*--*--*--*--*--*--*--*--*--*--*--*--*--*--*--*--*--*--*--*-\n",
      "Inference on data/weatherbench/test_data between 01-01-2017 and 01-01-2018 dates\n",
      "Performing iterative prediction since window_out (6) < forecast_horizon (72)\n",
      "\ttest:3/4-*--*--*--*--*--*--*--*--*--*-\n",
      "Experiment finished for the 01-01-2017_01-01-2018 the scores are: \n",
      "inference-test:\t\tMSE: 12.40206, MAE: 2.44433, MAPE: 0.00904, RMSE: 3.52166, WeightedMAE: 2.19799, WeightedRMSE: 3.07053, WeightedACC: 0.82013, \n",
      "convlstm\n",
      "-*--*--*--*--*--*--*--*--*--*--*--*--*--*--*--*--*--*--*--*-\n",
      "Inference on data/weatherbench/test_data between 01-01-2017 and 01-01-2018 dates\n",
      "Performing iterative prediction since window_out (6) < forecast_horizon (72)\n",
      "\ttest:3/4-*--*--*--*--*--*--*--*--*--*-\n",
      "Experiment finished for the 01-01-2017_01-01-2018 the scores are: \n",
      "inference-test:\t\tMSE: 13.77555, MAE: 2.53652, MAPE: 0.00940, RMSE: 3.71154, WeightedMAE: 2.22505, WeightedRMSE: 3.16472, WeightedACC: 0.80173, \n"
     ]
    }
   ],
   "source": [
    "# perform inference on test\n",
    "for mn in model_names:\n",
    "    print(mn)\n",
    "    inference_params[\"model_name\"] = mn\n",
    "    inference_params[\"exp_num\"] = get_exp_count(mn, result_dir=exp_dir)  # get the last experiment\n",
    "    inference_on_test(dataset_type=\"weatherbench\", device=experiment_params[\"device\"], **inference_params)"
   ],
   "metadata": {
    "collapsed": false
   }
  },
  {
   "cell_type": "markdown",
   "source": [
    "### Direct"
   ],
   "metadata": {
    "collapsed": false
   }
  },
  {
   "cell_type": "code",
   "execution_count": 9,
   "outputs": [],
   "source": [
    "from configs.weatherbench.direct_model_confs import model_params\n",
    "\n",
    "model_name = \"weather_model\"  # can be ['weather_model', 'u_net', 'traj_gru', 'convlstm']\n",
    "exp_type = \"direct\""
   ],
   "metadata": {
    "collapsed": false
   }
  },
  {
   "cell_type": "code",
   "execution_count": 10,
   "outputs": [
    {
     "ename": "FileNotFoundError",
     "evalue": "[Errno 2] No such file or directory: 'results/direct_results/weather_model/exp_0/model.pkl'",
     "output_type": "error",
     "traceback": [
      "\u001B[0;31m---------------------------------------------------------------------------\u001B[0m",
      "\u001B[0;31mFileNotFoundError\u001B[0m                         Traceback (most recent call last)",
      "Cell \u001B[0;32mIn[10], line 14\u001B[0m\n\u001B[1;32m      2\u001B[0m exp_dir \u001B[38;5;241m=\u001B[39m \u001B[38;5;124mf\u001B[39m\u001B[38;5;124m\"\u001B[39m\u001B[38;5;124mresults/\u001B[39m\u001B[38;5;132;01m{\u001B[39;00mexp_type\u001B[38;5;132;01m}\u001B[39;00m\u001B[38;5;124m_results\u001B[39m\u001B[38;5;124m\"\u001B[39m\n\u001B[1;32m      3\u001B[0m inference_params \u001B[38;5;241m=\u001B[39m {\n\u001B[1;32m      4\u001B[0m     \u001B[38;5;124m\"\u001B[39m\u001B[38;5;124mmodel_name\u001B[39m\u001B[38;5;124m\"\u001B[39m: model_name,\n\u001B[1;32m      5\u001B[0m     \u001B[38;5;124m\"\u001B[39m\u001B[38;5;124mstart_date_str\u001B[39m\u001B[38;5;124m\"\u001B[39m: \u001B[38;5;124m\"\u001B[39m\u001B[38;5;124m01-01-2017\u001B[39m\u001B[38;5;124m\"\u001B[39m,\n\u001B[0;32m   (...)\u001B[0m\n\u001B[1;32m     12\u001B[0m     \u001B[38;5;124m\"\u001B[39m\u001B[38;5;124mselected_dim\u001B[39m\u001B[38;5;124m\"\u001B[39m: \u001B[38;5;241m-\u001B[39m\u001B[38;5;241m1\u001B[39m  \u001B[38;5;66;03m# index position of the selected feature\u001B[39;00m\n\u001B[1;32m     13\u001B[0m }\n\u001B[0;32m---> 14\u001B[0m \u001B[43minference_on_test\u001B[49m\u001B[43m(\u001B[49m\u001B[43mdataset_type\u001B[49m\u001B[38;5;241;43m=\u001B[39;49m\u001B[38;5;124;43m\"\u001B[39;49m\u001B[38;5;124;43mweatherbench\u001B[39;49m\u001B[38;5;124;43m\"\u001B[39;49m\u001B[43m,\u001B[49m\u001B[43m \u001B[49m\u001B[43mdevice\u001B[49m\u001B[38;5;241;43m=\u001B[39;49m\u001B[43mexperiment_params\u001B[49m\u001B[43m[\u001B[49m\u001B[38;5;124;43m\"\u001B[39;49m\u001B[38;5;124;43mdevice\u001B[39;49m\u001B[38;5;124;43m\"\u001B[39;49m\u001B[43m]\u001B[49m\u001B[43m,\u001B[49m\u001B[43m \u001B[49m\u001B[38;5;241;43m*\u001B[39;49m\u001B[38;5;241;43m*\u001B[39;49m\u001B[43minference_params\u001B[49m\u001B[43m)\u001B[49m\n",
      "File \u001B[0;32m~/Documents/PycharmProjects/spatio-temporal-weather-forecasting/inference.py:17\u001B[0m, in \u001B[0;36minference_on_test\u001B[0;34m(model_name, device, exp_num, test_data_folder, start_date_str, end_date_str, forecast_horizon, selected_dim, exp_dir, dataset_type)\u001B[0m\n\u001B[1;32m     15\u001B[0m \u001B[38;5;28;01mdef\u001B[39;00m \u001B[38;5;21minference_on_test\u001B[39m(model_name, device, exp_num, test_data_folder, start_date_str, end_date_str, forecast_horizon,\n\u001B[1;32m     16\u001B[0m                       selected_dim, exp_dir, dataset_type):\n\u001B[0;32m---> 17\u001B[0m     trainer, model, dumped_generator \u001B[38;5;241m=\u001B[39m \u001B[43mget_experiment_elements\u001B[49m\u001B[43m(\u001B[49m\u001B[43mmodel_name\u001B[49m\u001B[43m,\u001B[49m\u001B[43m \u001B[49m\u001B[43mdevice\u001B[49m\u001B[43m,\u001B[49m\u001B[43m \u001B[49m\u001B[43mexp_num\u001B[49m\u001B[43m,\u001B[49m\u001B[43m \u001B[49m\u001B[43mexp_dir\u001B[49m\u001B[43m)\u001B[49m\n\u001B[1;32m     19\u001B[0m     start_date \u001B[38;5;241m=\u001B[39m pd\u001B[38;5;241m.\u001B[39mto_datetime(start_date_str)\n\u001B[1;32m     20\u001B[0m     end_date \u001B[38;5;241m=\u001B[39m pd\u001B[38;5;241m.\u001B[39mto_datetime(end_date_str) \u001B[38;5;241m-\u001B[39m pd\u001B[38;5;241m.\u001B[39mDateOffset(hours\u001B[38;5;241m=\u001B[39m\u001B[38;5;241m1\u001B[39m)\n",
      "File \u001B[0;32m~/Documents/PycharmProjects/spatio-temporal-weather-forecasting/experimenter.py:143\u001B[0m, in \u001B[0;36mget_experiment_elements\u001B[0;34m(model_name, device, exp_num, exp_dir)\u001B[0m\n\u001B[1;32m    141\u001B[0m \u001B[38;5;28;01mif\u001B[39;00m exp_num \u001B[38;5;129;01mis\u001B[39;00m \u001B[38;5;28;01mNone\u001B[39;00m:\n\u001B[1;32m    142\u001B[0m     \u001B[38;5;28;01mraise\u001B[39;00m \u001B[38;5;167;01mKeyError\u001B[39;00m(\u001B[38;5;124m\"\u001B[39m\u001B[38;5;124mexperiment number cannot be None\u001B[39m\u001B[38;5;124m\"\u001B[39m)\n\u001B[0;32m--> 143\u001B[0m model, trainer, batch_generator \u001B[38;5;241m=\u001B[39m \u001B[43m_load_checkpoint\u001B[49m\u001B[43m(\u001B[49m\u001B[43mmodel_name\u001B[49m\u001B[43m,\u001B[49m\u001B[43m \u001B[49m\u001B[43mexp_num\u001B[49m\u001B[43m,\u001B[49m\u001B[43m \u001B[49m\u001B[43mexp_dir\u001B[49m\u001B[43m)\u001B[49m\n\u001B[1;32m    145\u001B[0m model \u001B[38;5;241m=\u001B[39m model\u001B[38;5;241m.\u001B[39mto(device)\n\u001B[1;32m    146\u001B[0m \u001B[38;5;28;01mif\u001B[39;00m model_name \u001B[38;5;129;01min\u001B[39;00m [\u001B[38;5;124m\"\u001B[39m\u001B[38;5;124mconvlstm\u001B[39m\u001B[38;5;124m\"\u001B[39m, \u001B[38;5;124m\"\u001B[39m\u001B[38;5;124mweather_model\u001B[39m\u001B[38;5;124m\"\u001B[39m]:\n",
      "File \u001B[0;32m~/Documents/PycharmProjects/spatio-temporal-weather-forecasting/experimenter.py:187\u001B[0m, in \u001B[0;36m_load_checkpoint\u001B[0;34m(model_name, exp_num, exp_dir)\u001B[0m\n\u001B[1;32m    184\u001B[0m     \u001B[38;5;28;01mreturn\u001B[39;00m obj\n\u001B[1;32m    186\u001B[0m exps_dir \u001B[38;5;241m=\u001B[39m os\u001B[38;5;241m.\u001B[39mpath\u001B[38;5;241m.\u001B[39mjoin(exp_dir, model_name, \u001B[38;5;124mf\u001B[39m\u001B[38;5;124m\"\u001B[39m\u001B[38;5;124mexp_\u001B[39m\u001B[38;5;132;01m{\u001B[39;00mexp_num\u001B[38;5;132;01m}\u001B[39;00m\u001B[38;5;124m\"\u001B[39m)\n\u001B[0;32m--> 187\u001B[0m model \u001B[38;5;241m=\u001B[39m \u001B[43mload_obj\u001B[49m\u001B[43m(\u001B[49m\u001B[43mexps_dir\u001B[49m\u001B[43m,\u001B[49m\u001B[43m \u001B[49m\u001B[38;5;124;43m\"\u001B[39;49m\u001B[38;5;124;43mmodel\u001B[39;49m\u001B[38;5;124;43m\"\u001B[39;49m\u001B[43m)\u001B[49m\n\u001B[1;32m    188\u001B[0m trainer \u001B[38;5;241m=\u001B[39m load_obj(exps_dir, \u001B[38;5;124m\"\u001B[39m\u001B[38;5;124mtrainer\u001B[39m\u001B[38;5;124m\"\u001B[39m)\n\u001B[1;32m    189\u001B[0m batch_generator \u001B[38;5;241m=\u001B[39m load_obj(exps_dir, \u001B[38;5;124m\"\u001B[39m\u001B[38;5;124mbatch_generator\u001B[39m\u001B[38;5;124m\"\u001B[39m)\n",
      "File \u001B[0;32m~/Documents/PycharmProjects/spatio-temporal-weather-forecasting/experimenter.py:182\u001B[0m, in \u001B[0;36m_load_checkpoint.<locals>.load_obj\u001B[0;34m(dir_path, obj_name)\u001B[0m\n\u001B[1;32m    180\u001B[0m \u001B[38;5;28;01mdef\u001B[39;00m \u001B[38;5;21mload_obj\u001B[39m(dir_path, obj_name):\n\u001B[1;32m    181\u001B[0m     obj_path \u001B[38;5;241m=\u001B[39m os\u001B[38;5;241m.\u001B[39mpath\u001B[38;5;241m.\u001B[39mjoin(dir_path, \u001B[38;5;124mf\u001B[39m\u001B[38;5;124m\"\u001B[39m\u001B[38;5;132;01m{\u001B[39;00mobj_name\u001B[38;5;132;01m}\u001B[39;00m\u001B[38;5;124m.pkl\u001B[39m\u001B[38;5;124m\"\u001B[39m)\n\u001B[0;32m--> 182\u001B[0m     \u001B[38;5;28;01mwith\u001B[39;00m \u001B[38;5;28;43mopen\u001B[39;49m\u001B[43m(\u001B[49m\u001B[43mobj_path\u001B[49m\u001B[43m,\u001B[49m\u001B[43m \u001B[49m\u001B[38;5;124;43m\"\u001B[39;49m\u001B[38;5;124;43mrb\u001B[39;49m\u001B[38;5;124;43m\"\u001B[39;49m\u001B[43m)\u001B[49m \u001B[38;5;28;01mas\u001B[39;00m f:\n\u001B[1;32m    183\u001B[0m         obj \u001B[38;5;241m=\u001B[39m pkl\u001B[38;5;241m.\u001B[39mload(f)\n\u001B[1;32m    184\u001B[0m     \u001B[38;5;28;01mreturn\u001B[39;00m obj\n",
      "\u001B[0;31mFileNotFoundError\u001B[0m: [Errno 2] No such file or directory: 'results/direct_results/weather_model/exp_0/model.pkl'"
     ]
    }
   ],
   "source": [
    "# perform inference on test\n",
    "exp_dir = f\"results/{exp_type}_results\"\n",
    "inference_params = {\n",
    "    \"model_name\": model_name,\n",
    "    \"start_date_str\": \"01-01-2017\",\n",
    "    \"end_date_str\": \"01-01-2018\",\n",
    "    \"test_data_folder\": \"data/weatherbench/test_data\",\n",
    "    \"exp_dir\": exp_dir,\n",
    "    \"exp_num\": get_exp_count(model_name, result_dir=exp_dir),  # get the last experiment\n",
    "    # \"exp_num\": 2,  # or set it by yourself\n",
    "    \"forecast_horizon\": 72,\n",
    "    \"selected_dim\": -1  # index position of the selected feature\n",
    "}\n",
    "inference_on_test(dataset_type=\"weatherbench\", device=experiment_params[\"device\"], **inference_params)"
   ],
   "metadata": {
    "collapsed": false
   }
  },
  {
   "cell_type": "markdown",
   "source": [
    "### Results"
   ],
   "metadata": {
    "collapsed": false
   }
  },
  {
   "cell_type": "markdown",
   "source": [
    "| Model Name             | WeightedRMSE   | WeightedMAE   | WeightedACC |\n",
    "|------------------------|----------------|---------------|-------------|\n",
    "| Convlstm (seq)         | 4.43           | 3.47          | 0.64        |\n",
    "| TrajGRU (seq)          | 3.598          | 2.79          | 0.76        |\n",
    "| U-Net (seq)            | **3.06**       | **2.08**      | **0.82**    |\n",
    "| Weather Model (seq)    | 3.97           | 3.26          | 0.69        |\n",
    "| ---------------------  | -------------- | ------------- | ----------- |\n",
    "| Convlstm (iter)        | 3.16           | 3.47          | 0.64        |\n",
    "| TrajGRU (iter)         | 3.07           | 2.19          | 0.82        |\n",
    "| U-Net (iter)           | 4.13           | 3.26          | 0.68        |\n",
    "| Weather Model (iter)   | **2.92**       | **2.08**      | **0.84**    |\n",
    "| ---------------------  | -------------- | ------------- | ----------- |\n",
    "| Weather Model (direct) | 3.07           | 2.20          | 0.82        |"
   ],
   "metadata": {
    "collapsed": false
   }
  },
  {
   "cell_type": "code",
   "execution_count": null,
   "outputs": [],
   "source": [],
   "metadata": {
    "collapsed": false
   }
  }
 ],
 "metadata": {
  "kernelspec": {
   "display_name": "Python 3",
   "language": "python",
   "name": "python3"
  },
  "language_info": {
   "codemirror_mode": {
    "name": "ipython",
    "version": 2
   },
   "file_extension": ".py",
   "mimetype": "text/x-python",
   "name": "python",
   "nbconvert_exporter": "python",
   "pygments_lexer": "ipython2",
   "version": "2.7.6"
  }
 },
 "nbformat": 4,
 "nbformat_minor": 0
}
